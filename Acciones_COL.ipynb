{
  "nbformat": 4,
  "nbformat_minor": 0,
  "metadata": {
    "colab": {
      "name": "Acciones-COL",
      "provenance": [],
      "authorship_tag": "ABX9TyP9Chl8MPk9hPhYyLJYzLEd",
      "include_colab_link": true
    },
    "kernelspec": {
      "name": "python3",
      "display_name": "Python 3"
    },
    "language_info": {
      "name": "python"
    }
  },
  "cells": [
    {
      "cell_type": "markdown",
      "metadata": {
        "id": "view-in-github",
        "colab_type": "text"
      },
      "source": [
        "<a href=\"https://colab.research.google.com/github/brayanricardo13/Mercado-de-capitales/blob/main/Acciones_COL.ipynb\" target=\"_parent\"><img src=\"https://colab.research.google.com/assets/colab-badge.svg\" alt=\"Open In Colab\"/></a>"
      ]
    },
    {
      "cell_type": "code",
      "metadata": {
        "id": "mtzn_xHGyqc0"
      },
      "source": [
        "pip install investpy"
      ],
      "execution_count": null,
      "outputs": []
    },
    {
      "cell_type": "code",
      "metadata": {
        "id": "T7CBXQPJyQh5"
      },
      "source": [
        "import investpy as inv\n",
        "import pandas as pd\n",
        "import matplotlib.pyplot as plt"
      ],
      "execution_count": 11,
      "outputs": []
    },
    {
      "cell_type": "code",
      "metadata": {
        "id": "ct_zKoGmzOb7"
      },
      "source": [
        "from google.colab import files"
      ],
      "execution_count": 3,
      "outputs": []
    },
    {
      "cell_type": "code",
      "metadata": {
        "id": "1c8-YTyXyyVp"
      },
      "source": [
        "inv.get_stocks_list(\"colombia\")"
      ],
      "execution_count": null,
      "outputs": []
    },
    {
      "cell_type": "code",
      "source": [
        "Cementos_argos_ordinaria=inv.get_stock_historical_data(\"CCB\",country=\"colombia\",from_date='01/01/2021',to_date='30/12/2021')\n",
        "ordinaria=Cementos_argos_ordinaria[[\"Close\"]]\n",
        "print(ordinaria)"
      ],
      "metadata": {
        "id": "_Qwi78GnLD-z"
      },
      "execution_count": null,
      "outputs": []
    },
    {
      "cell_type": "code",
      "source": [
        "Cementos_argos_preferencial=inv.get_stock_historical_data(\"CCB_p\",country=\"colombia\",from_date='01/01/2021',to_date='30/12/2021')\n",
        "preferencial=Cementos_argos_preferencial[[\"Close\"]]\n",
        "print(preferencial)"
      ],
      "metadata": {
        "id": "AOxH2FbELEKQ"
      },
      "execution_count": null,
      "outputs": []
    },
    {
      "cell_type": "code",
      "source": [
        "ordinaria.plot.line()"
      ],
      "metadata": {
        "id": "AzGBIEhELETO"
      },
      "execution_count": null,
      "outputs": []
    },
    {
      "cell_type": "code",
      "source": [
        "preferencial.plot.line()"
      ],
      "metadata": {
        "id": "Oyjki8qJOp70"
      },
      "execution_count": null,
      "outputs": []
    }
  ]
}